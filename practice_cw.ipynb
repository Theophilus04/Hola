{
 "cells": [
  {
   "cell_type": "code",
   "execution_count": 1,
   "metadata": {},
   "outputs": [],
   "source": [
    "import yfinance as yf\n",
    "import numpy as np\n",
    "import pandas as pd\n",
    "import matplotlib as mpl\n"
   ]
  },
  {
   "cell_type": "code",
   "execution_count": 2,
   "metadata": {},
   "outputs": [
    {
     "name": "stdout",
     "output_type": "stream",
     "text": [
      "[*********************100%***********************]  1 of 1 completed\n"
     ]
    }
   ],
   "source": [
    "data = yf.download('AMZN', start='2020-03-01', end='2021-03-01')"
   ]
  },
  {
   "cell_type": "code",
   "execution_count": 9,
   "metadata": {},
   "outputs": [
    {
     "name": "stdout",
     "output_type": "stream",
     "text": [
      "                   Open         High          Low        Close    Adj Close  \\\n",
      "Date                                                                          \n",
      "2020-03-02  1906.489990  1954.510010  1870.000000  1953.949951  1953.949951   \n",
      "2020-03-03  1975.369995  1996.329956  1888.089966  1908.989990  1908.989990   \n",
      "2020-03-04  1946.569946  1978.000000  1922.000000  1975.829956  1975.829956   \n",
      "2020-03-05  1933.000000  1960.719971  1910.000000  1924.030029  1924.030029   \n",
      "2020-03-06  1875.000000  1910.869995  1869.500000  1901.089966  1901.089966   \n",
      "...                 ...          ...          ...          ...          ...   \n",
      "2021-02-22  3208.129883  3232.320068  3172.260010  3180.739990  3180.739990   \n",
      "2021-02-23  3127.030029  3204.729980  3093.600098  3194.500000  3194.500000   \n",
      "2021-02-24  3166.750000  3171.229980  3125.379883  3159.530029  3159.530029   \n",
      "2021-02-25  3136.739990  3178.260010  3047.760010  3057.159912  3057.159912   \n",
      "2021-02-26  3095.199951  3122.439941  3036.699951  3092.929932  3092.929932   \n",
      "\n",
      "             Volume  \n",
      "Date                 \n",
      "2020-03-02  6761700  \n",
      "2020-03-03  7534500  \n",
      "2020-03-04  4772900  \n",
      "2020-03-05  4748200  \n",
      "2020-03-06  5273600  \n",
      "...             ...  \n",
      "2021-02-22  3515700  \n",
      "2021-02-23  4677200  \n",
      "2021-02-24  3011300  \n",
      "2021-02-25  4533800  \n",
      "2021-02-26  4273500  \n",
      "\n",
      "[251 rows x 6 columns]\n"
     ]
    }
   ],
   "source": [
    "print(data)"
   ]
  },
  {
   "cell_type": "code",
   "execution_count": 11,
   "metadata": {},
   "outputs": [
    {
     "data": {
      "text/html": [
       "<div>\n",
       "<style scoped>\n",
       "    .dataframe tbody tr th:only-of-type {\n",
       "        vertical-align: middle;\n",
       "    }\n",
       "\n",
       "    .dataframe tbody tr th {\n",
       "        vertical-align: top;\n",
       "    }\n",
       "\n",
       "    .dataframe thead th {\n",
       "        text-align: right;\n",
       "    }\n",
       "</style>\n",
       "<table border=\"1\" class=\"dataframe\">\n",
       "  <thead>\n",
       "    <tr style=\"text-align: right;\">\n",
       "      <th></th>\n",
       "      <th>Adj Close</th>\n",
       "    </tr>\n",
       "    <tr>\n",
       "      <th>Date</th>\n",
       "      <th></th>\n",
       "    </tr>\n",
       "  </thead>\n",
       "  <tbody>\n",
       "    <tr>\n",
       "      <th>2020-03-02</th>\n",
       "      <td>1953.949951</td>\n",
       "    </tr>\n",
       "    <tr>\n",
       "      <th>2020-03-03</th>\n",
       "      <td>1908.989990</td>\n",
       "    </tr>\n",
       "    <tr>\n",
       "      <th>2020-03-04</th>\n",
       "      <td>1975.829956</td>\n",
       "    </tr>\n",
       "    <tr>\n",
       "      <th>2020-03-05</th>\n",
       "      <td>1924.030029</td>\n",
       "    </tr>\n",
       "    <tr>\n",
       "      <th>2020-03-06</th>\n",
       "      <td>1901.089966</td>\n",
       "    </tr>\n",
       "    <tr>\n",
       "      <th>...</th>\n",
       "      <td>...</td>\n",
       "    </tr>\n",
       "    <tr>\n",
       "      <th>2021-02-22</th>\n",
       "      <td>3180.739990</td>\n",
       "    </tr>\n",
       "    <tr>\n",
       "      <th>2021-02-23</th>\n",
       "      <td>3194.500000</td>\n",
       "    </tr>\n",
       "    <tr>\n",
       "      <th>2021-02-24</th>\n",
       "      <td>3159.530029</td>\n",
       "    </tr>\n",
       "    <tr>\n",
       "      <th>2021-02-25</th>\n",
       "      <td>3057.159912</td>\n",
       "    </tr>\n",
       "    <tr>\n",
       "      <th>2021-02-26</th>\n",
       "      <td>3092.929932</td>\n",
       "    </tr>\n",
       "  </tbody>\n",
       "</table>\n",
       "<p>251 rows × 1 columns</p>\n",
       "</div>"
      ],
      "text/plain": [
       "              Adj Close\n",
       "Date                   \n",
       "2020-03-02  1953.949951\n",
       "2020-03-03  1908.989990\n",
       "2020-03-04  1975.829956\n",
       "2020-03-05  1924.030029\n",
       "2020-03-06  1901.089966\n",
       "...                 ...\n",
       "2021-02-22  3180.739990\n",
       "2021-02-23  3194.500000\n",
       "2021-02-24  3159.530029\n",
       "2021-02-25  3057.159912\n",
       "2021-02-26  3092.929932\n",
       "\n",
       "[251 rows x 1 columns]"
      ]
     },
     "execution_count": 11,
     "metadata": {},
     "output_type": "execute_result"
    }
   ],
   "source": [
    "ADJ =  pd.DataFrame(data = data['Adj Close']) \n",
    "ADJ"
   ]
  },
  {
   "cell_type": "code",
   "execution_count": 23,
   "metadata": {},
   "outputs": [],
   "source": [
    "data.rename(columns={'Date' : 'date', 'Adj Close' : 'price_t'}, inplace=True)"
   ]
  },
  {
   "cell_type": "code",
   "execution_count": 24,
   "metadata": {},
   "outputs": [
    {
     "data": {
      "text/html": [
       "<div>\n",
       "<style scoped>\n",
       "    .dataframe tbody tr th:only-of-type {\n",
       "        vertical-align: middle;\n",
       "    }\n",
       "\n",
       "    .dataframe tbody tr th {\n",
       "        vertical-align: top;\n",
       "    }\n",
       "\n",
       "    .dataframe thead th {\n",
       "        text-align: right;\n",
       "    }\n",
       "</style>\n",
       "<table border=\"1\" class=\"dataframe\">\n",
       "  <thead>\n",
       "    <tr style=\"text-align: right;\">\n",
       "      <th></th>\n",
       "      <th>Open</th>\n",
       "      <th>High</th>\n",
       "      <th>Low</th>\n",
       "      <th>Close</th>\n",
       "      <th>price_t</th>\n",
       "      <th>Volume</th>\n",
       "    </tr>\n",
       "    <tr>\n",
       "      <th>Date</th>\n",
       "      <th></th>\n",
       "      <th></th>\n",
       "      <th></th>\n",
       "      <th></th>\n",
       "      <th></th>\n",
       "      <th></th>\n",
       "    </tr>\n",
       "  </thead>\n",
       "  <tbody>\n",
       "    <tr>\n",
       "      <th>2020-03-02</th>\n",
       "      <td>1906.489990</td>\n",
       "      <td>1954.510010</td>\n",
       "      <td>1870.000000</td>\n",
       "      <td>1953.949951</td>\n",
       "      <td>1953.949951</td>\n",
       "      <td>6761700</td>\n",
       "    </tr>\n",
       "    <tr>\n",
       "      <th>2020-03-03</th>\n",
       "      <td>1975.369995</td>\n",
       "      <td>1996.329956</td>\n",
       "      <td>1888.089966</td>\n",
       "      <td>1908.989990</td>\n",
       "      <td>1908.989990</td>\n",
       "      <td>7534500</td>\n",
       "    </tr>\n",
       "    <tr>\n",
       "      <th>2020-03-04</th>\n",
       "      <td>1946.569946</td>\n",
       "      <td>1978.000000</td>\n",
       "      <td>1922.000000</td>\n",
       "      <td>1975.829956</td>\n",
       "      <td>1975.829956</td>\n",
       "      <td>4772900</td>\n",
       "    </tr>\n",
       "    <tr>\n",
       "      <th>2020-03-05</th>\n",
       "      <td>1933.000000</td>\n",
       "      <td>1960.719971</td>\n",
       "      <td>1910.000000</td>\n",
       "      <td>1924.030029</td>\n",
       "      <td>1924.030029</td>\n",
       "      <td>4748200</td>\n",
       "    </tr>\n",
       "    <tr>\n",
       "      <th>2020-03-06</th>\n",
       "      <td>1875.000000</td>\n",
       "      <td>1910.869995</td>\n",
       "      <td>1869.500000</td>\n",
       "      <td>1901.089966</td>\n",
       "      <td>1901.089966</td>\n",
       "      <td>5273600</td>\n",
       "    </tr>\n",
       "  </tbody>\n",
       "</table>\n",
       "</div>"
      ],
      "text/plain": [
       "                   Open         High          Low        Close      price_t  \\\n",
       "Date                                                                          \n",
       "2020-03-02  1906.489990  1954.510010  1870.000000  1953.949951  1953.949951   \n",
       "2020-03-03  1975.369995  1996.329956  1888.089966  1908.989990  1908.989990   \n",
       "2020-03-04  1946.569946  1978.000000  1922.000000  1975.829956  1975.829956   \n",
       "2020-03-05  1933.000000  1960.719971  1910.000000  1924.030029  1924.030029   \n",
       "2020-03-06  1875.000000  1910.869995  1869.500000  1901.089966  1901.089966   \n",
       "\n",
       "             Volume  \n",
       "Date                 \n",
       "2020-03-02  6761700  \n",
       "2020-03-03  7534500  \n",
       "2020-03-04  4772900  \n",
       "2020-03-05  4748200  \n",
       "2020-03-06  5273600  "
      ]
     },
     "execution_count": 24,
     "metadata": {},
     "output_type": "execute_result"
    }
   ],
   "source": [
    "data.head()"
   ]
  },
  {
   "cell_type": "code",
   "execution_count": 36,
   "metadata": {},
   "outputs": [
    {
     "data": {
      "text/html": [
       "<div>\n",
       "<style scoped>\n",
       "    .dataframe tbody tr th:only-of-type {\n",
       "        vertical-align: middle;\n",
       "    }\n",
       "\n",
       "    .dataframe tbody tr th {\n",
       "        vertical-align: top;\n",
       "    }\n",
       "\n",
       "    .dataframe thead th {\n",
       "        text-align: right;\n",
       "    }\n",
       "</style>\n",
       "<table border=\"1\" class=\"dataframe\">\n",
       "  <thead>\n",
       "    <tr style=\"text-align: right;\">\n",
       "      <th></th>\n",
       "      <th>price_t</th>\n",
       "    </tr>\n",
       "    <tr>\n",
       "      <th>Date</th>\n",
       "      <th></th>\n",
       "    </tr>\n",
       "  </thead>\n",
       "  <tbody>\n",
       "    <tr>\n",
       "      <th>2020-03-02</th>\n",
       "      <td>1953.949951</td>\n",
       "    </tr>\n",
       "    <tr>\n",
       "      <th>2020-03-03</th>\n",
       "      <td>1908.989990</td>\n",
       "    </tr>\n",
       "    <tr>\n",
       "      <th>2020-03-04</th>\n",
       "      <td>1975.829956</td>\n",
       "    </tr>\n",
       "    <tr>\n",
       "      <th>2020-03-05</th>\n",
       "      <td>1924.030029</td>\n",
       "    </tr>\n",
       "    <tr>\n",
       "      <th>2020-03-06</th>\n",
       "      <td>1901.089966</td>\n",
       "    </tr>\n",
       "    <tr>\n",
       "      <th>...</th>\n",
       "      <td>...</td>\n",
       "    </tr>\n",
       "    <tr>\n",
       "      <th>2021-02-22</th>\n",
       "      <td>3180.739990</td>\n",
       "    </tr>\n",
       "    <tr>\n",
       "      <th>2021-02-23</th>\n",
       "      <td>3194.500000</td>\n",
       "    </tr>\n",
       "    <tr>\n",
       "      <th>2021-02-24</th>\n",
       "      <td>3159.530029</td>\n",
       "    </tr>\n",
       "    <tr>\n",
       "      <th>2021-02-25</th>\n",
       "      <td>3057.159912</td>\n",
       "    </tr>\n",
       "    <tr>\n",
       "      <th>2021-02-26</th>\n",
       "      <td>3092.929932</td>\n",
       "    </tr>\n",
       "  </tbody>\n",
       "</table>\n",
       "<p>251 rows × 1 columns</p>\n",
       "</div>"
      ],
      "text/plain": [
       "                price_t\n",
       "Date                   \n",
       "2020-03-02  1953.949951\n",
       "2020-03-03  1908.989990\n",
       "2020-03-04  1975.829956\n",
       "2020-03-05  1924.030029\n",
       "2020-03-06  1901.089966\n",
       "...                 ...\n",
       "2021-02-22  3180.739990\n",
       "2021-02-23  3194.500000\n",
       "2021-02-24  3159.530029\n",
       "2021-02-25  3057.159912\n",
       "2021-02-26  3092.929932\n",
       "\n",
       "[251 rows x 1 columns]"
      ]
     },
     "execution_count": 36,
     "metadata": {},
     "output_type": "execute_result"
    }
   ],
   "source": [
    "data =  pd.DataFrame(data = data['price_t']) \n",
    "data"
   ]
  },
  {
   "cell_type": "code",
   "execution_count": 44,
   "metadata": {},
   "outputs": [],
   "source": [
    "data['price_t-1'] = data['price_t'].shift(1)"
   ]
  },
  {
   "cell_type": "code",
   "execution_count": 45,
   "metadata": {},
   "outputs": [
    {
     "data": {
      "text/html": [
       "<div>\n",
       "<style scoped>\n",
       "    .dataframe tbody tr th:only-of-type {\n",
       "        vertical-align: middle;\n",
       "    }\n",
       "\n",
       "    .dataframe tbody tr th {\n",
       "        vertical-align: top;\n",
       "    }\n",
       "\n",
       "    .dataframe thead th {\n",
       "        text-align: right;\n",
       "    }\n",
       "</style>\n",
       "<table border=\"1\" class=\"dataframe\">\n",
       "  <thead>\n",
       "    <tr style=\"text-align: right;\">\n",
       "      <th></th>\n",
       "      <th>price_t</th>\n",
       "      <th>returns</th>\n",
       "      <th>price_t-1</th>\n",
       "    </tr>\n",
       "    <tr>\n",
       "      <th>Date</th>\n",
       "      <th></th>\n",
       "      <th></th>\n",
       "      <th></th>\n",
       "    </tr>\n",
       "  </thead>\n",
       "  <tbody>\n",
       "    <tr>\n",
       "      <th>2020-03-02</th>\n",
       "      <td>1953.949951</td>\n",
       "      <td>-inf</td>\n",
       "      <td>NaN</td>\n",
       "    </tr>\n",
       "    <tr>\n",
       "      <th>2020-03-03</th>\n",
       "      <td>1908.989990</td>\n",
       "      <td>-inf</td>\n",
       "      <td>1953.949951</td>\n",
       "    </tr>\n",
       "    <tr>\n",
       "      <th>2020-03-04</th>\n",
       "      <td>1975.829956</td>\n",
       "      <td>-inf</td>\n",
       "      <td>1908.989990</td>\n",
       "    </tr>\n",
       "    <tr>\n",
       "      <th>2020-03-05</th>\n",
       "      <td>1924.030029</td>\n",
       "      <td>-inf</td>\n",
       "      <td>1975.829956</td>\n",
       "    </tr>\n",
       "    <tr>\n",
       "      <th>2020-03-06</th>\n",
       "      <td>1901.089966</td>\n",
       "      <td>-inf</td>\n",
       "      <td>1924.030029</td>\n",
       "    </tr>\n",
       "  </tbody>\n",
       "</table>\n",
       "</div>"
      ],
      "text/plain": [
       "                price_t  returns    price_t-1\n",
       "Date                                         \n",
       "2020-03-02  1953.949951     -inf          NaN\n",
       "2020-03-03  1908.989990     -inf  1953.949951\n",
       "2020-03-04  1975.829956     -inf  1908.989990\n",
       "2020-03-05  1924.030029     -inf  1975.829956\n",
       "2020-03-06  1901.089966     -inf  1924.030029"
      ]
     },
     "execution_count": 45,
     "metadata": {},
     "output_type": "execute_result"
    }
   ],
   "source": [
    "data.head()"
   ]
  },
  {
   "cell_type": "code",
   "execution_count": 46,
   "metadata": {},
   "outputs": [],
   "source": [
    "data['returns_manual'] = (data['price_t'] / data['price_t-1']) - 1"
   ]
  },
  {
   "cell_type": "code",
   "execution_count": 47,
   "metadata": {},
   "outputs": [
    {
     "data": {
      "text/html": [
       "<div>\n",
       "<style scoped>\n",
       "    .dataframe tbody tr th:only-of-type {\n",
       "        vertical-align: middle;\n",
       "    }\n",
       "\n",
       "    .dataframe tbody tr th {\n",
       "        vertical-align: top;\n",
       "    }\n",
       "\n",
       "    .dataframe thead th {\n",
       "        text-align: right;\n",
       "    }\n",
       "</style>\n",
       "<table border=\"1\" class=\"dataframe\">\n",
       "  <thead>\n",
       "    <tr style=\"text-align: right;\">\n",
       "      <th></th>\n",
       "      <th>price_t</th>\n",
       "      <th>returns</th>\n",
       "      <th>price_t-1</th>\n",
       "      <th>returns_manual</th>\n",
       "    </tr>\n",
       "    <tr>\n",
       "      <th>Date</th>\n",
       "      <th></th>\n",
       "      <th></th>\n",
       "      <th></th>\n",
       "      <th></th>\n",
       "    </tr>\n",
       "  </thead>\n",
       "  <tbody>\n",
       "    <tr>\n",
       "      <th>2020-03-02</th>\n",
       "      <td>1953.949951</td>\n",
       "      <td>-inf</td>\n",
       "      <td>NaN</td>\n",
       "      <td>NaN</td>\n",
       "    </tr>\n",
       "    <tr>\n",
       "      <th>2020-03-03</th>\n",
       "      <td>1908.989990</td>\n",
       "      <td>-inf</td>\n",
       "      <td>1953.949951</td>\n",
       "      <td>-0.023010</td>\n",
       "    </tr>\n",
       "    <tr>\n",
       "      <th>2020-03-04</th>\n",
       "      <td>1975.829956</td>\n",
       "      <td>-inf</td>\n",
       "      <td>1908.989990</td>\n",
       "      <td>0.035013</td>\n",
       "    </tr>\n",
       "    <tr>\n",
       "      <th>2020-03-05</th>\n",
       "      <td>1924.030029</td>\n",
       "      <td>-inf</td>\n",
       "      <td>1975.829956</td>\n",
       "      <td>-0.026217</td>\n",
       "    </tr>\n",
       "    <tr>\n",
       "      <th>2020-03-06</th>\n",
       "      <td>1901.089966</td>\n",
       "      <td>-inf</td>\n",
       "      <td>1924.030029</td>\n",
       "      <td>-0.011923</td>\n",
       "    </tr>\n",
       "  </tbody>\n",
       "</table>\n",
       "</div>"
      ],
      "text/plain": [
       "                price_t  returns    price_t-1  returns_manual\n",
       "Date                                                         \n",
       "2020-03-02  1953.949951     -inf          NaN             NaN\n",
       "2020-03-03  1908.989990     -inf  1953.949951       -0.023010\n",
       "2020-03-04  1975.829956     -inf  1908.989990        0.035013\n",
       "2020-03-05  1924.030029     -inf  1975.829956       -0.026217\n",
       "2020-03-06  1901.089966     -inf  1924.030029       -0.011923"
      ]
     },
     "execution_count": 47,
     "metadata": {},
     "output_type": "execute_result"
    }
   ],
   "source": [
    "data.head()"
   ]
  },
  {
   "cell_type": "code",
   "execution_count": 48,
   "metadata": {},
   "outputs": [
    {
     "data": {
      "text/html": [
       "<div>\n",
       "<style scoped>\n",
       "    .dataframe tbody tr th:only-of-type {\n",
       "        vertical-align: middle;\n",
       "    }\n",
       "\n",
       "    .dataframe tbody tr th {\n",
       "        vertical-align: top;\n",
       "    }\n",
       "\n",
       "    .dataframe thead th {\n",
       "        text-align: right;\n",
       "    }\n",
       "</style>\n",
       "<table border=\"1\" class=\"dataframe\">\n",
       "  <thead>\n",
       "    <tr style=\"text-align: right;\">\n",
       "      <th></th>\n",
       "      <th>price_t</th>\n",
       "      <th>returns</th>\n",
       "      <th>price_t-1</th>\n",
       "      <th>returns_manual</th>\n",
       "    </tr>\n",
       "    <tr>\n",
       "      <th>Date</th>\n",
       "      <th></th>\n",
       "      <th></th>\n",
       "      <th></th>\n",
       "      <th></th>\n",
       "    </tr>\n",
       "  </thead>\n",
       "  <tbody>\n",
       "    <tr>\n",
       "      <th>2021-02-22</th>\n",
       "      <td>3180.739990</td>\n",
       "      <td>-inf</td>\n",
       "      <td>3249.899902</td>\n",
       "      <td>-0.021281</td>\n",
       "    </tr>\n",
       "    <tr>\n",
       "      <th>2021-02-23</th>\n",
       "      <td>3194.500000</td>\n",
       "      <td>-inf</td>\n",
       "      <td>3180.739990</td>\n",
       "      <td>0.004326</td>\n",
       "    </tr>\n",
       "    <tr>\n",
       "      <th>2021-02-24</th>\n",
       "      <td>3159.530029</td>\n",
       "      <td>-inf</td>\n",
       "      <td>3194.500000</td>\n",
       "      <td>-0.010947</td>\n",
       "    </tr>\n",
       "    <tr>\n",
       "      <th>2021-02-25</th>\n",
       "      <td>3057.159912</td>\n",
       "      <td>-inf</td>\n",
       "      <td>3159.530029</td>\n",
       "      <td>-0.032400</td>\n",
       "    </tr>\n",
       "    <tr>\n",
       "      <th>2021-02-26</th>\n",
       "      <td>3092.929932</td>\n",
       "      <td>NaN</td>\n",
       "      <td>3057.159912</td>\n",
       "      <td>0.011700</td>\n",
       "    </tr>\n",
       "  </tbody>\n",
       "</table>\n",
       "</div>"
      ],
      "text/plain": [
       "                price_t  returns    price_t-1  returns_manual\n",
       "Date                                                         \n",
       "2021-02-22  3180.739990     -inf  3249.899902       -0.021281\n",
       "2021-02-23  3194.500000     -inf  3180.739990        0.004326\n",
       "2021-02-24  3159.530029     -inf  3194.500000       -0.010947\n",
       "2021-02-25  3057.159912     -inf  3159.530029       -0.032400\n",
       "2021-02-26  3092.929932      NaN  3057.159912        0.011700"
      ]
     },
     "execution_count": 48,
     "metadata": {},
     "output_type": "execute_result"
    }
   ],
   "source": [
    "data.tail()"
   ]
  },
  {
   "cell_type": "code",
   "execution_count": 57,
   "metadata": {},
   "outputs": [],
   "source": [
    "data['return_pct_change_method'] = data['price_t'].pct_change(1)"
   ]
  },
  {
   "cell_type": "code",
   "execution_count": 59,
   "metadata": {},
   "outputs": [
    {
     "data": {
      "text/html": [
       "<div>\n",
       "<style scoped>\n",
       "    .dataframe tbody tr th:only-of-type {\n",
       "        vertical-align: middle;\n",
       "    }\n",
       "\n",
       "    .dataframe tbody tr th {\n",
       "        vertical-align: top;\n",
       "    }\n",
       "\n",
       "    .dataframe thead th {\n",
       "        text-align: right;\n",
       "    }\n",
       "</style>\n",
       "<table border=\"1\" class=\"dataframe\">\n",
       "  <thead>\n",
       "    <tr style=\"text-align: right;\">\n",
       "      <th></th>\n",
       "      <th>price_t</th>\n",
       "      <th>returns</th>\n",
       "      <th>price_t-1</th>\n",
       "      <th>returns_manual</th>\n",
       "      <th>return</th>\n",
       "      <th>return_pct_change_method</th>\n",
       "    </tr>\n",
       "    <tr>\n",
       "      <th>Date</th>\n",
       "      <th></th>\n",
       "      <th></th>\n",
       "      <th></th>\n",
       "      <th></th>\n",
       "      <th></th>\n",
       "      <th></th>\n",
       "    </tr>\n",
       "  </thead>\n",
       "  <tbody>\n",
       "    <tr>\n",
       "      <th>2020-03-02</th>\n",
       "      <td>1953.949951</td>\n",
       "      <td>-inf</td>\n",
       "      <td>NaN</td>\n",
       "      <td>NaN</td>\n",
       "      <td>NaN</td>\n",
       "      <td>NaN</td>\n",
       "    </tr>\n",
       "    <tr>\n",
       "      <th>2020-03-03</th>\n",
       "      <td>1908.989990</td>\n",
       "      <td>-inf</td>\n",
       "      <td>1953.949951</td>\n",
       "      <td>-0.023010</td>\n",
       "      <td>-0.023010</td>\n",
       "      <td>-0.023010</td>\n",
       "    </tr>\n",
       "    <tr>\n",
       "      <th>2020-03-04</th>\n",
       "      <td>1975.829956</td>\n",
       "      <td>-inf</td>\n",
       "      <td>1908.989990</td>\n",
       "      <td>0.035013</td>\n",
       "      <td>0.035013</td>\n",
       "      <td>0.035013</td>\n",
       "    </tr>\n",
       "    <tr>\n",
       "      <th>2020-03-05</th>\n",
       "      <td>1924.030029</td>\n",
       "      <td>-inf</td>\n",
       "      <td>1975.829956</td>\n",
       "      <td>-0.026217</td>\n",
       "      <td>-0.026217</td>\n",
       "      <td>-0.026217</td>\n",
       "    </tr>\n",
       "    <tr>\n",
       "      <th>2020-03-06</th>\n",
       "      <td>1901.089966</td>\n",
       "      <td>-inf</td>\n",
       "      <td>1924.030029</td>\n",
       "      <td>-0.011923</td>\n",
       "      <td>-0.011923</td>\n",
       "      <td>-0.011923</td>\n",
       "    </tr>\n",
       "  </tbody>\n",
       "</table>\n",
       "</div>"
      ],
      "text/plain": [
       "                price_t  returns    price_t-1  returns_manual    return  \\\n",
       "Date                                                                      \n",
       "2020-03-02  1953.949951     -inf          NaN             NaN       NaN   \n",
       "2020-03-03  1908.989990     -inf  1953.949951       -0.023010 -0.023010   \n",
       "2020-03-04  1975.829956     -inf  1908.989990        0.035013  0.035013   \n",
       "2020-03-05  1924.030029     -inf  1975.829956       -0.026217 -0.026217   \n",
       "2020-03-06  1901.089966     -inf  1924.030029       -0.011923 -0.011923   \n",
       "\n",
       "            return_pct_change_method  \n",
       "Date                                  \n",
       "2020-03-02                       NaN  \n",
       "2020-03-03                 -0.023010  \n",
       "2020-03-04                  0.035013  \n",
       "2020-03-05                 -0.026217  \n",
       "2020-03-06                 -0.011923  "
      ]
     },
     "execution_count": 59,
     "metadata": {},
     "output_type": "execute_result"
    }
   ],
   "source": [
    "data.head()"
   ]
  },
  {
   "cell_type": "code",
   "execution_count": 60,
   "metadata": {},
   "outputs": [
    {
     "data": {
      "text/html": [
       "<div>\n",
       "<style scoped>\n",
       "    .dataframe tbody tr th:only-of-type {\n",
       "        vertical-align: middle;\n",
       "    }\n",
       "\n",
       "    .dataframe tbody tr th {\n",
       "        vertical-align: top;\n",
       "    }\n",
       "\n",
       "    .dataframe thead th {\n",
       "        text-align: right;\n",
       "    }\n",
       "</style>\n",
       "<table border=\"1\" class=\"dataframe\">\n",
       "  <thead>\n",
       "    <tr style=\"text-align: right;\">\n",
       "      <th></th>\n",
       "      <th>price_t</th>\n",
       "      <th>returns</th>\n",
       "      <th>price_t-1</th>\n",
       "      <th>returns_manual</th>\n",
       "      <th>return</th>\n",
       "      <th>return_pct_change_method</th>\n",
       "    </tr>\n",
       "    <tr>\n",
       "      <th>Date</th>\n",
       "      <th></th>\n",
       "      <th></th>\n",
       "      <th></th>\n",
       "      <th></th>\n",
       "      <th></th>\n",
       "      <th></th>\n",
       "    </tr>\n",
       "  </thead>\n",
       "  <tbody>\n",
       "    <tr>\n",
       "      <th>2021-02-22</th>\n",
       "      <td>3180.739990</td>\n",
       "      <td>-inf</td>\n",
       "      <td>3249.899902</td>\n",
       "      <td>-0.021281</td>\n",
       "      <td>-0.021281</td>\n",
       "      <td>-0.021281</td>\n",
       "    </tr>\n",
       "    <tr>\n",
       "      <th>2021-02-23</th>\n",
       "      <td>3194.500000</td>\n",
       "      <td>-inf</td>\n",
       "      <td>3180.739990</td>\n",
       "      <td>0.004326</td>\n",
       "      <td>0.004326</td>\n",
       "      <td>0.004326</td>\n",
       "    </tr>\n",
       "    <tr>\n",
       "      <th>2021-02-24</th>\n",
       "      <td>3159.530029</td>\n",
       "      <td>-inf</td>\n",
       "      <td>3194.500000</td>\n",
       "      <td>-0.010947</td>\n",
       "      <td>-0.010947</td>\n",
       "      <td>-0.010947</td>\n",
       "    </tr>\n",
       "    <tr>\n",
       "      <th>2021-02-25</th>\n",
       "      <td>3057.159912</td>\n",
       "      <td>-inf</td>\n",
       "      <td>3159.530029</td>\n",
       "      <td>-0.032400</td>\n",
       "      <td>-0.032400</td>\n",
       "      <td>-0.032400</td>\n",
       "    </tr>\n",
       "    <tr>\n",
       "      <th>2021-02-26</th>\n",
       "      <td>3092.929932</td>\n",
       "      <td>NaN</td>\n",
       "      <td>3057.159912</td>\n",
       "      <td>0.011700</td>\n",
       "      <td>0.011700</td>\n",
       "      <td>0.011700</td>\n",
       "    </tr>\n",
       "  </tbody>\n",
       "</table>\n",
       "</div>"
      ],
      "text/plain": [
       "                price_t  returns    price_t-1  returns_manual    return  \\\n",
       "Date                                                                      \n",
       "2021-02-22  3180.739990     -inf  3249.899902       -0.021281 -0.021281   \n",
       "2021-02-23  3194.500000     -inf  3180.739990        0.004326  0.004326   \n",
       "2021-02-24  3159.530029     -inf  3194.500000       -0.010947 -0.010947   \n",
       "2021-02-25  3057.159912     -inf  3159.530029       -0.032400 -0.032400   \n",
       "2021-02-26  3092.929932      NaN  3057.159912        0.011700  0.011700   \n",
       "\n",
       "            return_pct_change_method  \n",
       "Date                                  \n",
       "2021-02-22                 -0.021281  \n",
       "2021-02-23                  0.004326  \n",
       "2021-02-24                 -0.010947  \n",
       "2021-02-25                 -0.032400  \n",
       "2021-02-26                  0.011700  "
      ]
     },
     "execution_count": 60,
     "metadata": {},
     "output_type": "execute_result"
    }
   ],
   "source": [
    "data.tail()"
   ]
  },
  {
   "cell_type": "code",
   "execution_count": 63,
   "metadata": {},
   "outputs": [],
   "source": [
    "data['returns'] = (data['price_t'] / data['price_t'].shift(1)) - 1"
   ]
  },
  {
   "cell_type": "code",
   "execution_count": 64,
   "metadata": {},
   "outputs": [
    {
     "data": {
      "text/html": [
       "<div>\n",
       "<style scoped>\n",
       "    .dataframe tbody tr th:only-of-type {\n",
       "        vertical-align: middle;\n",
       "    }\n",
       "\n",
       "    .dataframe tbody tr th {\n",
       "        vertical-align: top;\n",
       "    }\n",
       "\n",
       "    .dataframe thead th {\n",
       "        text-align: right;\n",
       "    }\n",
       "</style>\n",
       "<table border=\"1\" class=\"dataframe\">\n",
       "  <thead>\n",
       "    <tr style=\"text-align: right;\">\n",
       "      <th></th>\n",
       "      <th>price_t</th>\n",
       "      <th>returns</th>\n",
       "      <th>price_t-1</th>\n",
       "      <th>returns_manual</th>\n",
       "      <th>return</th>\n",
       "      <th>return_pct_change_method</th>\n",
       "    </tr>\n",
       "    <tr>\n",
       "      <th>Date</th>\n",
       "      <th></th>\n",
       "      <th></th>\n",
       "      <th></th>\n",
       "      <th></th>\n",
       "      <th></th>\n",
       "      <th></th>\n",
       "    </tr>\n",
       "  </thead>\n",
       "  <tbody>\n",
       "    <tr>\n",
       "      <th>2020-03-02</th>\n",
       "      <td>1953.949951</td>\n",
       "      <td>NaN</td>\n",
       "      <td>NaN</td>\n",
       "      <td>NaN</td>\n",
       "      <td>NaN</td>\n",
       "      <td>NaN</td>\n",
       "    </tr>\n",
       "    <tr>\n",
       "      <th>2020-03-03</th>\n",
       "      <td>1908.989990</td>\n",
       "      <td>-0.023010</td>\n",
       "      <td>1953.949951</td>\n",
       "      <td>-0.023010</td>\n",
       "      <td>-0.023010</td>\n",
       "      <td>-0.023010</td>\n",
       "    </tr>\n",
       "    <tr>\n",
       "      <th>2020-03-04</th>\n",
       "      <td>1975.829956</td>\n",
       "      <td>0.035013</td>\n",
       "      <td>1908.989990</td>\n",
       "      <td>0.035013</td>\n",
       "      <td>0.035013</td>\n",
       "      <td>0.035013</td>\n",
       "    </tr>\n",
       "    <tr>\n",
       "      <th>2020-03-05</th>\n",
       "      <td>1924.030029</td>\n",
       "      <td>-0.026217</td>\n",
       "      <td>1975.829956</td>\n",
       "      <td>-0.026217</td>\n",
       "      <td>-0.026217</td>\n",
       "      <td>-0.026217</td>\n",
       "    </tr>\n",
       "    <tr>\n",
       "      <th>2020-03-06</th>\n",
       "      <td>1901.089966</td>\n",
       "      <td>-0.011923</td>\n",
       "      <td>1924.030029</td>\n",
       "      <td>-0.011923</td>\n",
       "      <td>-0.011923</td>\n",
       "      <td>-0.011923</td>\n",
       "    </tr>\n",
       "  </tbody>\n",
       "</table>\n",
       "</div>"
      ],
      "text/plain": [
       "                price_t   returns    price_t-1  returns_manual    return  \\\n",
       "Date                                                                       \n",
       "2020-03-02  1953.949951       NaN          NaN             NaN       NaN   \n",
       "2020-03-03  1908.989990 -0.023010  1953.949951       -0.023010 -0.023010   \n",
       "2020-03-04  1975.829956  0.035013  1908.989990        0.035013  0.035013   \n",
       "2020-03-05  1924.030029 -0.026217  1975.829956       -0.026217 -0.026217   \n",
       "2020-03-06  1901.089966 -0.011923  1924.030029       -0.011923 -0.011923   \n",
       "\n",
       "            return_pct_change_method  \n",
       "Date                                  \n",
       "2020-03-02                       NaN  \n",
       "2020-03-03                 -0.023010  \n",
       "2020-03-04                  0.035013  \n",
       "2020-03-05                 -0.026217  \n",
       "2020-03-06                 -0.011923  "
      ]
     },
     "execution_count": 64,
     "metadata": {},
     "output_type": "execute_result"
    }
   ],
   "source": [
    "data.head()"
   ]
  },
  {
   "cell_type": "code",
   "execution_count": 70,
   "metadata": {},
   "outputs": [
    {
     "data": {
      "text/plain": [
       "<AxesSubplot:xlabel='Date'>"
      ]
     },
     "execution_count": 70,
     "metadata": {},
     "output_type": "execute_result"
    },
    {
     "data": {
      "image/png": "[encoded data removed]",
      "text/plain": [
       "<Figure size 864x576 with 1 Axes>"
      ]
     },
     "metadata": {
      "needs_background": "light"
     },
     "output_type": "display_data"
    }
   ],
   "source": [
    "data['price_t'].plot(figsize=(12, 8))"
   ]
  },
  {
   "cell_type": "code",
   "execution_count": 72,
   "metadata": {},
   "outputs": [
    {
     "data": {
      "text/plain": [
       "<AxesSubplot:xlabel='Date'>"
      ]
     },
     "execution_count": 72,
     "metadata": {},
     "output_type": "execute_result"
    },
    {
     "data": {
      "image/png": "[encoded data removed]",
      "text/plain": [
       "<Figure size 864x576 with 1 Axes>"
      ]
     },
     "metadata": {
      "needs_background": "light"
     },
     "output_type": "display_data"
    }
   ],
   "source": [
    "data['returns'].plot(figsize=(12, 8))"
   ]
  },
  {
   "cell_type": "code",
   "execution_count": 73,
   "metadata": {},
   "outputs": [
    {
     "data": {
      "text/plain": [
       "0.023934136093383216"
      ]
     },
     "execution_count": 73,
     "metadata": {},
     "output_type": "execute_result"
    }
   ],
   "source": [
    "daily_std =np.std(data.returns)\n",
    "daily_std"
   ]
  },
  {
   "cell_type": "code",
   "execution_count": 74,
   "metadata": {},
   "outputs": [
    {
     "data": {
      "text/plain": [
       "0.09536036207217917"
      ]
     },
     "execution_count": 74,
     "metadata": {},
     "output_type": "execute_result"
    }
   ],
   "source": [
    "std = daily_std * np.sqrt(252) **(0.5)\n",
    "std"
   ]
  },
  {
   "cell_type": "code",
   "execution_count": 78,
   "metadata": {},
   "outputs": [
    {
     "data": {
      "text/plain": [
       "0.08018818662379174"
      ]
     },
     "execution_count": 78,
     "metadata": {},
     "output_type": "execute_result"
    }
   ],
   "source": [
    "std = daily_std * np.sqrt(126) **(0.5)\n",
    "std"
   ]
  },
  {
   "cell_type": "code",
   "execution_count": null,
   "metadata": {},
   "outputs": [],
   "source": []
  }
 ],
 "metadata": {
  "kernelspec": {
   "display_name": "Python 3",
   "language": "python",
   "name": "python3"
  },
  "language_info": {
   "codemirror_mode": {
    "name": "ipython",
    "version": 3
   },
   "file_extension": ".py",
   "mimetype": "text/x-python",
   "name": "python",
   "nbconvert_exporter": "python",
   "pygments_lexer": "ipython3",
   "version": "3.8.5"
  }
 },
 "nbformat": 4,
 "nbformat_minor": 4
}

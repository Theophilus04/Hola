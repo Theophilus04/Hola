{
 "cells": [
  {
   "cell_type": "code",
   "execution_count": 226,
   "metadata": {},
   "outputs": [],
   "source": [
    "import numpy as np\n",
    "import pandas as pd\n",
    "import matplotlib.pyplot as plt\n",
    "import scipy.stats as si\n",
    "import yfinance as yf"
   ]
  },
  {
   "cell_type": "code",
   "execution_count": 227,
   "metadata": {},
   "outputs": [],
   "source": [
    "S0 = 3110.87              # spot stock price\n",
    "K = 3100.00                # strike ATM\n",
    "T = 4/52                 # maturity \n",
    "r = 0.0174                 # risk free rate \n",
    "sig = 0.3575               # diffusion coefficient or volatility\n",
    "N = 3                   # number of periods or number of time steps  \n",
    "payoff = 'put'          # payoff"
   ]
  },
  {
   "cell_type": "code",
   "execution_count": 228,
   "metadata": {},
   "outputs": [],
   "source": [
    "def option_bs(S, K, T, r, sig, payoff):\n",
    "    \n",
    "    d1 = (np.log(S / K) + (r + 0.5 * sig ** 2) * T) / (sig * np.sqrt(T))\n",
    "    d2 = (np.log(S / K) + (r - 0.5 * sig ** 2) * T) / (sig * np.sqrt(T))\n",
    "    if payoff == \"call\":\n",
    "        option_value = np.exp(-r * T) * si.norm.cdf(d2, 0.0, 1.0)\n",
    "    elif payoff == \"put\":\n",
    "        option_value = np.exp(-r * T) * si.norm.cdf(-d2, 0.0, 1.0)\n",
    "    \n",
    "    return option_value"
   ]
  },
  {
   "cell_type": "code",
   "execution_count": 229,
   "metadata": {},
   "outputs": [
    {
     "data": {
      "text/plain": [
       "0.4996399908424095"
      ]
     },
     "execution_count": 229,
     "metadata": {},
     "output_type": "execute_result"
    }
   ],
   "source": [
    "option_bs(3110.87, 3100, 4/52, 0.0174, 0.3575, 'put')"
   ]
  },
  {
   "cell_type": "code",
   "execution_count": 230,
   "metadata": {},
   "outputs": [],
   "source": [
    "def mcs_simulation_np(p):\n",
    "    M = p\n",
    "    I = p\n",
    "    dt = T / M \n",
    "    S = np.zeros((M + 1, I))\n",
    "    S[0] = S0 \n",
    "    rn = np.random.standard_normal(S.shape) \n",
    "    for t in range(1, M + 1): \n",
    "        S[t] = S[t-1] * np.exp((r - sigma ** 2 / 2) * dt + sigma * np.sqrt(dt) * rn[t]) \n",
    "    return S"
   ]
  },
  {
   "cell_type": "code",
   "execution_count": 231,
   "metadata": {},
   "outputs": [],
   "source": [
    "T = 4/52\n",
    "r = 0.0174\n",
    "sigma = 0.3575\n",
    "S0 = 3110.87\n",
    "K = 3100.00"
   ]
  },
  {
   "cell_type": "code",
   "execution_count": 232,
   "metadata": {},
   "outputs": [],
   "source": [
    "S = mcs_simulation_np(10000)"
   ]
  },
  {
   "cell_type": "code",
   "execution_count": 233,
   "metadata": {},
   "outputs": [
    {
     "data": {
      "text/plain": [
       "array([[3110.87      , 3106.23151946, 3107.45977809, ..., 2399.36889172,\n",
       "        2399.93221389, 2402.06405249],\n",
       "       [3110.87      , 3111.80573926, 3110.97676308, ..., 3332.68265174,\n",
       "        3331.86170561, 3333.65552769],\n",
       "       [3110.87      , 3109.67579561, 3109.46326078, ..., 3150.02182083,\n",
       "        3152.10926806, 3156.10596389],\n",
       "       ...,\n",
       "       [3110.87      , 3108.92975014, 3111.67376415, ..., 3389.5335016 ,\n",
       "        3389.59878912, 3390.45601895],\n",
       "       [3110.87      , 3113.14847642, 3109.53188787, ..., 3181.03400195,\n",
       "        3180.66344082, 3178.08936392],\n",
       "       [3110.87      , 3107.36887577, 3111.97859241, ..., 3444.47480119,\n",
       "        3438.24871258, 3436.29735166]])"
      ]
     },
     "execution_count": 233,
     "metadata": {},
     "output_type": "execute_result"
    }
   ],
   "source": [
    "S = np.transpose(S)\n",
    "S"
   ]
  },
  {
   "cell_type": "code",
   "execution_count": 234,
   "metadata": {},
   "outputs": [
    {
     "name": "stdout",
     "output_type": "stream",
     "text": [
      "Binary put 0.21477852214778523\n"
     ]
    }
   ],
   "source": [
    "pp = (K - S[-1,:])>0\n",
    "bpp = np.mean(np.maximum(pp.astype(int),0))\n",
    "print('Binary put', str(bpp))"
   ]
  },
  {
   "cell_type": "code",
   "execution_count": 235,
   "metadata": {},
   "outputs": [],
   "source": [
    "def delta(S, K, T, r, q, sig, payoff):\n",
    "    \n",
    "    #S: spot price\n",
    "    #K: strike price\n",
    "    #T: time to maturity\n",
    "    #r: risk free rate\n",
    "    #q: continuous dividend yield\n",
    "    #vol: volatility of underlying asset\n",
    "    #payoff: call or put\n",
    "    \n",
    "    d1 = (np.log(S / K) + (r - q + 0.5 * sig ** 2) * T) / (sig * np.sqrt(T))\n",
    "    d2 = (np.log(S / K) + (r - q - 0.5 * sig ** 2) * T) / (sig * np.sqrt(T))\n",
    "    if payoff == \"call\":\n",
    "        delta = (np.exp(-r * T) * si.norm.pdf(d2, 0.0, 1.0)) / (sig * np.sqrt(T))\n",
    "    elif payoff == \"put\":\n",
    "        delta =  - (np.exp(-r * T) * si.norm.pdf(-d2, 0.0, 1.0)) / (sig * S * np.sqrt(T))\n",
    "    \n",
    "    return delta"
   ]
  },
  {
   "cell_type": "code",
   "execution_count": 236,
   "metadata": {},
   "outputs": [
    {
     "data": {
      "text/plain": [
       "-0.0012916427665803664"
      ]
     },
     "execution_count": 236,
     "metadata": {},
     "output_type": "execute_result"
    }
   ],
   "source": [
    "delta(3110.87, 3100, 4/52, 0.0174, 0, 0.3575, 'put')\n"
   ]
  },
  {
   "cell_type": "code",
   "execution_count": 237,
   "metadata": {},
   "outputs": [],
   "source": [
    "def gamma(S, K, T, r, q, sig, payoff):\n",
    "    \n",
    "    d1 = (np.log(S / K) + (r - q + 0.5 * sig ** 2) * T) / (sig * np.sqrt(T))\n",
    "    d2 = (np.log(S / K) + (r - q - 0.5 * sig ** 2) * T) / (sig * np.sqrt(T))\n",
    "    if payoff == \"call\":\n",
    "        gamma = - (np.exp(-r * T) * d1 * si.norm.pdf(d1, 0.0, 1.0)) / (sig**2 * S**2 * np.sqrt(T))\n",
    "    elif payoff == \"put\":\n",
    "        gamma =  (np.exp(-r * T) * d1 * si.norm.pdf(d2, 0.0, 1.0)) / (sig **2 * S**2* np.sqrt(T))\n",
    "    \n",
    "    return gamma"
   ]
  },
  {
   "cell_type": "code",
   "execution_count": 238,
   "metadata": {},
   "outputs": [
    {
     "data": {
      "text/plain": [
       "1.142564997937342e-07"
      ]
     },
     "execution_count": 238,
     "metadata": {},
     "output_type": "execute_result"
    }
   ],
   "source": [
    "gamma(3110.87, 3100, 4/52, 0.0174, 0, 0.3575, 'put')"
   ]
  },
  {
   "cell_type": "code",
   "execution_count": 239,
   "metadata": {},
   "outputs": [],
   "source": [
    "def theta(S, K, T, r, q, sig, payoff):\n",
    "    \n",
    "    d1 = (np.log(S / K) + (r - q + 0.5 * sig ** 2) * T) / (sig * np.sqrt(T))\n",
    "    d2 = (np.log(S / K) + (r - q - 0.5 * sig ** 2) * T) / (sig * np.sqrt(T))\n",
    "    A = d1 /(2 * T)\n",
    "    B = (r - q) / sig * np.sqrt(T)\n",
    "    if payoff == \"call\":\n",
    "        theta = r * np.exp(-r * T) * (d1,0.0,1.0) * si.norm.cdf(d2,0.0,1.0) + np.exp(-r * T) * si.norm.pdf(d2,0.0,1.0) * (A - B)\n",
    "    elif payoff == \"put\":\n",
    "        theta = r * np.exp(-r * T) * (1 - si.norm.cdf(-d1, 0.0, 1.0)) - (np.exp(-r * T) * si.norm.pdf(d2,0.0,1.0)) * (A - B)\n",
    "    \n",
    "    return theta"
   ]
  },
  {
   "cell_type": "code",
   "execution_count": 240,
   "metadata": {},
   "outputs": [
    {
     "data": {
      "text/plain": [
       "-0.2400168428797643"
      ]
     },
     "execution_count": 240,
     "metadata": {},
     "output_type": "execute_result"
    }
   ],
   "source": [
    "theta(3110.87, 3100.00, 4/52, 0.0174, 0, 0.3575, 'put')"
   ]
  },
  {
   "cell_type": "code",
   "execution_count": 241,
   "metadata": {},
   "outputs": [],
   "source": [
    "def rho(S, K, T, r, q, sig, payoff):\n",
    "    \n",
    "    d1 = (np.log(S / K) + (r - q + 0.5 * sig ** 2) * T) / (sig * np.sqrt(T))\n",
    "    d2 = (np.log(S / K) + (r - q - 0.5 * sig ** 2) * T) / (sig * np.sqrt(T))\n",
    "    if payoff == \"call\":\n",
    "        rho =  - (T) * np.exp(-r * T) * si.norm.cdf(d2, 0.0, 1.0) + (np.sqrt(T) / (sig)) * (np.exp(-r * T) * si.norm.pdf(d2,0.0,1.0))\n",
    "    elif payoff == \"put\":\n",
    "        rho = - (T) * np.exp(-r * T) * (1 - si.norm.cdf(d2, 0.0, 1.0)) - (np.sqrt(T) / (sig)) * (np.exp(-r * T) * si.norm.pdf(d2,0.0,1.0))\n",
    "    \n",
    "    return rho"
   ]
  },
  {
   "cell_type": "code",
   "execution_count": 242,
   "metadata": {},
   "outputs": [
    {
     "data": {
      "text/plain": [
       "-0.3475209787780212"
      ]
     },
     "execution_count": 242,
     "metadata": {},
     "output_type": "execute_result"
    }
   ],
   "source": [
    "rho(3110.87, 3100, 4/52, 0.0174, 0.0, 0.3575, 'put')"
   ]
  },
  {
   "cell_type": "code",
   "execution_count": 245,
   "metadata": {},
   "outputs": [],
   "source": [
    "def vega(S, K, T, r, q, sig, payoff):\n",
    "    \n",
    "    d1 = (np.log(S / K) + (r -q + 0.5 * sig **2) * T) / (sig * np.sqrt(T))\n",
    "    d2 = (np.log(S / K) + (r -q - 0.5 * sig **2) * T) / (sig * np.sqrt(T))\n",
    "    A = np.sqrt(T)\n",
    "    B = ((d2)/sig)\n",
    "    if payoff == \"call\":\n",
    "        vega = - np.exp(r * T) * si.norm.pdf(d2,0,1.0) * (A + B)\n",
    "    elif payoff == \"put\":\n",
    "        vega = np.exp(-r * T) * si.norm.pdf(d2,0,1) * (A + B)\n",
    "        \n",
    "    return vega    "
   ]
  },
  {
   "cell_type": "code",
   "execution_count": 253,
   "metadata": {},
   "outputs": [
    {
     "data": {
      "text/plain": [
       "0.10963494700484258"
      ]
     },
     "execution_count": 253,
     "metadata": {},
     "output_type": "execute_result"
    }
   ],
   "source": [
    "vega(3110.87, 3100, 4/52, 0.0174, 0, 0.3575, 'put')"
   ]
  },
  {
   "cell_type": "code",
   "execution_count": null,
   "metadata": {},
   "outputs": [],
   "source": []
  }
 ],
 "metadata": {
  "kernelspec": {
   "display_name": "Python 3",
   "language": "python",
   "name": "python3"
  },
  "language_info": {
   "codemirror_mode": {
    "name": "ipython",
    "version": 3
   },
   "file_extension": ".py",
   "mimetype": "text/x-python",
   "name": "python",
   "nbconvert_exporter": "python",
   "pygments_lexer": "ipython3",
   "version": "3.8.5"
  }
 },
 "nbformat": 4,
 "nbformat_minor": 4
}
